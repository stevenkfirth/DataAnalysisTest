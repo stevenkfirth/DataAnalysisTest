{
 "cells": [
  {
   "cell_type": "markdown",
   "metadata": {},
   "source": [
    "# xml analysis"
   ]
  },
  {
   "cell_type": "markdown",
   "metadata": {},
   "source": [
    "## setup"
   ]
  },
  {
   "cell_type": "code",
   "execution_count": 1,
   "metadata": {},
   "outputs": [
    {
     "data": {
      "text/plain": [
       "<module 'lxml.etree' from 'C:\\\\ProgramData\\\\Anaconda3\\\\lib\\\\site-packages\\\\lxml\\\\etree.cp37-win_amd64.pyd'>"
      ]
     },
     "execution_count": 1,
     "metadata": {},
     "output_type": "execute_result"
    }
   ],
   "source": [
    "from lxml import etree\n",
    "etree"
   ]
  },
  {
   "cell_type": "code",
   "execution_count": 2,
   "metadata": {},
   "outputs": [],
   "source": [
    "fp=r'EPC Redacted.xml'"
   ]
  },
  {
   "cell_type": "markdown",
   "metadata": {},
   "source": [
    "## parse xml"
   ]
  },
  {
   "cell_type": "code",
   "execution_count": 3,
   "metadata": {},
   "outputs": [
    {
     "data": {
      "text/plain": [
       "<lxml.etree._ElementTree at 0x26ed3696308>"
      ]
     },
     "execution_count": 3,
     "metadata": {},
     "output_type": "execute_result"
    }
   ],
   "source": [
    "xml=etree.parse(fp)\n",
    "xml"
   ]
  },
  {
   "cell_type": "code",
   "execution_count": 4,
   "metadata": {},
   "outputs": [
    {
     "data": {
      "text/plain": [
       "<Element {http://www.epcregister.com/xsd/rdsap}RdSAP-Report at 0x26ed3711b48>"
      ]
     },
     "execution_count": 4,
     "metadata": {},
     "output_type": "execute_result"
    }
   ],
   "source": [
    "root=xml.getroot()\n",
    "root"
   ]
  },
  {
   "cell_type": "markdown",
   "metadata": {},
   "source": [
    "## find elements"
   ]
  },
  {
   "cell_type": "code",
   "execution_count": 9,
   "metadata": {},
   "outputs": [
    {
     "data": {
      "text/plain": [
       "'009895'"
      ]
     },
     "execution_count": 9,
     "metadata": {},
     "output_type": "execute_result"
    }
   ],
   "source": [
    "e=root.xpath('.//rdsap:Main-Heating-Index-Number',namespaces={'rdsap':'http://www.epcregister.com/xsd/rdsap'})\n",
    "e=e[0]\n",
    "e.text"
   ]
  },
  {
   "cell_type": "code",
   "execution_count": 11,
   "metadata": {},
   "outputs": [
    {
     "data": {
      "text/plain": [
       "{'quantity': 'metres'}"
      ]
     },
     "execution_count": 11,
     "metadata": {},
     "output_type": "execute_result"
    }
   ],
   "source": [
    "e=root.xpath('.//rdsap:Heat-Loss-Perimeter',namespaces={'rdsap':'http://www.epcregister.com/xsd/rdsap'})[0]\n",
    "e.attrib"
   ]
  },
  {
   "cell_type": "code",
   "execution_count": 12,
   "metadata": {},
   "outputs": [
    {
     "data": {
      "text/plain": [
       "'metres'"
      ]
     },
     "execution_count": 12,
     "metadata": {},
     "output_type": "execute_result"
    }
   ],
   "source": [
    "e.get('quantity')"
   ]
  },
  {
   "cell_type": "code",
   "execution_count": 14,
   "metadata": {},
   "outputs": [
    {
     "data": {
      "text/plain": [
       "[<Element {http://www.epcregister.com/xsd/rdsap}Heat-Loss-Perimeter at 0x26ed3711f88>,\n",
       " <Element {http://www.epcregister.com/xsd/rdsap}Total-Floor-Area at 0x26ed373b088>,\n",
       " <Element {http://www.epcregister.com/xsd/rdsap}Room-Height at 0x26ed373b0c8>,\n",
       " <Element {http://www.epcregister.com/xsd/rdsap}Party-Wall-Length at 0x26ed373b108>,\n",
       " <Element {http://www.epcregister.com/xsd/rdsap}Heat-Loss-Perimeter at 0x26ed373b1c8>,\n",
       " <Element {http://www.epcregister.com/xsd/rdsap}Total-Floor-Area at 0x26ed373b208>,\n",
       " <Element {http://www.epcregister.com/xsd/rdsap}Room-Height at 0x26ed373b248>,\n",
       " <Element {http://www.epcregister.com/xsd/rdsap}Party-Wall-Length at 0x26ed373b288>,\n",
       " <Element {http://www.epcregister.com/xsd/rdsap}Heat-Loss-Perimeter at 0x26ed373b788>,\n",
       " <Element {http://www.epcregister.com/xsd/rdsap}Total-Floor-Area at 0x26ed373b7c8>,\n",
       " <Element {http://www.epcregister.com/xsd/rdsap}Room-Height at 0x26ed373b808>,\n",
       " <Element {http://www.epcregister.com/xsd/rdsap}Party-Wall-Length at 0x26ed373b848>]"
      ]
     },
     "execution_count": 14,
     "metadata": {},
     "output_type": "execute_result"
    }
   ],
   "source": [
    "e=root.xpath('.//rdsap:*[@quantity]',namespaces={'rdsap':'http://www.epcregister.com/xsd/rdsap'})\n",
    "e"
   ]
  },
  {
   "cell_type": "code",
   "execution_count": null,
   "metadata": {},
   "outputs": [],
   "source": []
  },
  {
   "cell_type": "code",
   "execution_count": null,
   "metadata": {},
   "outputs": [],
   "source": []
  }
 ],
 "metadata": {
  "kernelspec": {
   "display_name": "Python 3",
   "language": "python",
   "name": "python3"
  },
  "language_info": {
   "codemirror_mode": {
    "name": "ipython",
    "version": 3
   },
   "file_extension": ".py",
   "mimetype": "text/x-python",
   "name": "python",
   "nbconvert_exporter": "python",
   "pygments_lexer": "ipython3",
   "version": "3.7.1"
  }
 },
 "nbformat": 4,
 "nbformat_minor": 2
}
